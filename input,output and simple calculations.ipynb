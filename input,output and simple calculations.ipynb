{
 "cells": [
  {
   "cell_type": "code",
   "execution_count": 16,
   "metadata": {
    "scrolled": true
   },
   "outputs": [
    {
     "name": "stdout",
     "output_type": "stream",
     "text": [
      "Please enter your name.Lister\n",
      "What is your age?39\n",
      "What is your favourite TV programme?Red Dwarf\n",
      "Lister\n",
      "is\n",
      "39\n",
      "years old and likes\n",
      "Red Dwarf\n"
     ]
    }
   ],
   "source": [
    "#1\n",
    "name=str(input(\"Please enter your name.\"))\n",
    "age=int(input(\"What is your age?\"))\n",
    "tvp=str(input(\"What is your favourite TV programme?\"))\n",
    "print(name)\n",
    "print(\"is\")\n",
    "print(age)\n",
    "print(\"years old and likes\")\n",
    "print(tvp)"
   ]
  },
  {
   "cell_type": "code",
   "execution_count": 17,
   "metadata": {},
   "outputs": [
    {
     "name": "stdout",
     "output_type": "stream",
     "text": [
      "David\n",
      "Tennant\n",
      "Tennant David\n"
     ]
    }
   ],
   "source": [
    "#2\n",
    "fname=str(input())\n",
    "sname=str(input())\n",
    "print(sname,fname)"
   ]
  },
  {
   "cell_type": "code",
   "execution_count": 4,
   "metadata": {},
   "outputs": [
    {
     "name": "stdout",
     "output_type": "stream",
     "text": [
      "Please enter your name.Lister\n",
      "What is your age?39\n",
      "What is your favourite TV programme?Red Dwarf\n",
      "Lister 39\n",
      "Likes watching  Red Dwarf\n"
     ]
    }
   ],
   "source": [
    "#3\n",
    "name=str(input(\"Please enter your name.\"))\n",
    "age=int(input(\"What is your age?\"))\n",
    "tvp=str(input(\"What is your favourite TV programme?\"))\n",
    "print(name,age)\n",
    "print(\"Likes watching \",tvp)\n"
   ]
  },
  {
   "cell_type": "code",
   "execution_count": 5,
   "metadata": {},
   "outputs": [
    {
     "name": "stdout",
     "output_type": "stream",
     "text": [
      "KY\n",
      "8\n",
      "9\n",
      "HL\n",
      "KY8 9HL\n"
     ]
    }
   ],
   "source": [
    "#4\n",
    "l1=input()\n",
    "l2=input()\n",
    "l3=input()\n",
    "l4=input()\n",
    "print((l1+l2),(l3+l4))"
   ]
  },
  {
   "cell_type": "code",
   "execution_count": 8,
   "metadata": {},
   "outputs": [
    {
     "name": "stdout",
     "output_type": "stream",
     "text": [
      "Please enter the following values in cm.\n",
      "Please enter the length of the rectangle.12\n",
      "Please enter the width of the rectangle.6\n",
      "The area of the rectangle is:\n",
      "72 square centimetres\n"
     ]
    }
   ],
   "source": [
    "#5\n",
    "print(\"Please enter the following values in cm.\")\n",
    "length=int(input(\"Please enter the length of the rectangle.\"))\n",
    "width=int(input(\"Please enter the width of the rectangle.\"))\n",
    "area=length*width\n",
    "print(\"The area of the rectangle is:\")\n",
    "print(area,\"square centimetres\")"
   ]
  },
  {
   "cell_type": "code",
   "execution_count": 9,
   "metadata": {},
   "outputs": [
    {
     "name": "stdout",
     "output_type": "stream",
     "text": [
      "2\n",
      "6\n",
      "26\n"
     ]
    }
   ],
   "source": [
    "#6\n",
    "num1=str(input())\n",
    "num2=str(input())\n",
    "total=num1+num2\n",
    "print(total)"
   ]
  },
  {
   "cell_type": "code",
   "execution_count": 10,
   "metadata": {},
   "outputs": [
    {
     "name": "stdout",
     "output_type": "stream",
     "text": [
      "KY\n",
      "8\n",
      "9\n",
      "hl\n",
      "KY8 9HL\n"
     ]
    }
   ],
   "source": [
    "#7\n",
    "l1=input()\n",
    "l2=input()\n",
    "l3=input()\n",
    "l4=input()\n",
    "print((l1.upper()+l2),(l3+l4.upper()))"
   ]
  },
  {
   "cell_type": "code",
   "execution_count": 11,
   "metadata": {},
   "outputs": [
    {
     "name": "stdout",
     "output_type": "stream",
     "text": [
      "Please enter your forename:David\n",
      "Please enter your surname:Stott\n",
      "There are 10 letters in your name.\n"
     ]
    }
   ],
   "source": [
    "#8\n",
    "fname=str(input(\"Please enter your forename:\"))\n",
    "sname=str(input(\"Please enter your surname:\"))\n",
    "print(\"There are\",len(fname+sname),\"letters in your name.\")"
   ]
  },
  {
   "cell_type": "code",
   "execution_count": 12,
   "metadata": {},
   "outputs": [
    {
     "name": "stdout",
     "output_type": "stream",
     "text": [
      "Please enter a sentence of your choiceLuke, I am your father\n",
      "Your sentence contained the following:\n",
      "a= 2\n",
      "e= 2\n",
      "i= 1\n",
      "o= 1\n",
      "u= 2\n",
      "This is a total of 8 vowels.\n"
     ]
    }
   ],
   "source": [
    "#9\n",
    "sen=input(\"Please enter a sentence of your choice\")\n",
    "a=sen.count(\"a\")+sen.count(\"A\")\n",
    "e=sen.count(\"e\")+sen.count(\"E\")\n",
    "i=sen.count(\"i\")+sen.count(\"I\")\n",
    "o=sen.count(\"o\")+sen.count(\"O\")\n",
    "u=sen.count(\"u\")+sen.count(\"U\")\n",
    "vowels=a+e+i+o+u\n",
    "print(\"Your sentence contained the following:\")\n",
    "print(\"a=\",a)\n",
    "print(\"e=\",e)\n",
    "print(\"i=\",i)\n",
    "print(\"o=\",o)\n",
    "print(\"u=\",u)\n",
    "print(\"This is a total of\",vowels,\"vowels.\")"
   ]
  },
  {
   "cell_type": "code",
   "execution_count": 14,
   "metadata": {},
   "outputs": [
    {
     "name": "stdout",
     "output_type": "stream",
     "text": [
      "Please enter the male report.He should always ensure that his answers contain as much detail as possible.\n",
      "The female comment is:\n",
      "She should always ensure that her answers contain as much detail as possible.\n"
     ]
    }
   ],
   "source": [
    "#10\n",
    "mreport=input(\"Please enter the male report.\")\n",
    "sen1=mreport.replace(\"He\",\"She\")\n",
    "sen2=sen1.replace(\"his\",\"her\")\n",
    "print(\"The female comment is:\")\n",
    "print(sen2)"
   ]
  },
  {
   "cell_type": "code",
   "execution_count": 19,
   "metadata": {},
   "outputs": [
    {
     "name": "stdout",
     "output_type": "stream",
     "text": [
      "Please enter the product name.Plaza Beans\n",
      "Please enter the year2016\n",
      "The stock code for Plaza Beans is:\n",
      "Plns26\n"
     ]
    }
   ],
   "source": [
    "#11\n",
    "product=input(\"Please enter the product name.\")\n",
    "year=input(\"Please enter the year\")\n",
    "print(\"The stock code for\",product,\"is:\")\n",
    "print(product[0:2]+product[-2:]+year[0:1]+year[-1:])"
   ]
  },
  {
   "cell_type": "code",
   "execution_count": 21,
   "metadata": {},
   "outputs": [
    {
     "name": "stdout",
     "output_type": "stream",
     "text": [
      "Please enter your three costs.\n",
      "12.78\n",
      "6.32\n",
      "34.99\n",
      "The total cost is $ 54.09\n",
      "The auction companies fee is $ 5.0\n"
     ]
    }
   ],
   "source": [
    "#12\n",
    "print(\"Please enter your three costs.\")\n",
    "item1=float(input())\n",
    "item2=float(input())\n",
    "item3=float(input())\n",
    "total=item1+item2+item3\n",
    "fee=round((10/100)*total)\n",
    "print(\"The total cost is $\",total)\n",
    "print(\"The auction companies fee is $\",float(fee))\n"
   ]
  },
  {
   "cell_type": "code",
   "execution_count": 22,
   "metadata": {},
   "outputs": [
    {
     "name": "stdout",
     "output_type": "stream",
     "text": [
      "Please enter the following value in cm.\n",
      "Please enter the radius of the circle.16\n",
      "The area of the circle is:\n",
      "803.84 square centimetres\n"
     ]
    }
   ],
   "source": [
    "#13\n",
    "print(\"Please enter the following value in cm.\")\n",
    "rad=int(input(\"Please enter the radius of the circle.\"))\n",
    "print(\"The area of the circle is:\")\n",
    "print(3.14*(pow(rad,2)),\"square centimetres\")"
   ]
  },
  {
   "cell_type": "code",
   "execution_count": 24,
   "metadata": {},
   "outputs": [
    {
     "name": "stdout",
     "output_type": "stream",
     "text": [
      "Please enter the volume of the jar(cm3):2712.96\n",
      "Please enter the volume of one sweet(cm3):2.12\n",
      "1279 sweets fit into the jar.\n"
     ]
    }
   ],
   "source": [
    "#14\n",
    "vjar=float(input(\"Please enter the volume of the jar(cm3):\"))\n",
    "vsweet=float(input(\"Please enter the volume of one sweet(cm3):\"))\n",
    "print(int(vjar/vsweet),\"sweets fit into the jar.\")"
   ]
  },
  {
   "cell_type": "code",
   "execution_count": 25,
   "metadata": {},
   "outputs": [
    {
     "name": "stdout",
     "output_type": "stream",
     "text": [
      "Enter the area in m2 to be painted.178\n",
      "Enter the area (m2) that a single pot covers.25\n",
      "You will need  8 pots of paint.\n",
      "You can paint 22 m2 with the leftover paint.\n"
     ]
    }
   ],
   "source": [
    "#15\n",
    "tarea=int(input(\"Enter the area in m2 to be painted.\"))\n",
    "pot1=int(input(\"Enter the area (m2) that a single pot covers.\"))\n",
    "import math\n",
    "print(\"You will need \",math.ceil(tarea/pot1),\"pots of paint.\")\n",
    "print(\"You can paint\",(math.ceil(tarea/pot1)*pot1)-tarea,\"m2 with the leftover paint.\")"
   ]
  },
  {
   "cell_type": "code",
   "execution_count": 30,
   "metadata": {},
   "outputs": [
    {
     "name": "stdout",
     "output_type": "stream",
     "text": [
      "Please enter the length of a brick in cm:20\n",
      "Please enter the length of the wall in m:9.89\n",
      "47 bricks build one row of wall.\n",
      "This is  2  cm short of the required wall length.\n"
     ]
    }
   ],
   "source": [
    "#16\n",
    "lbrick=int(input(\"Please enter the length of a brick in cm:\"))\n",
    "lwall=float(input(\"Please enter the length of the wall in m:\"))\n",
    "print(int((lwall*100)/(lbrick+1)),\"bricks build one row of wall.\")\n",
    "bricks=int((lwall*100)/(lbrick+1))\n",
    "print(\"This is \",int((lwall*100)-(bricks*(lbrick+1))),\" cm short of the required wall length.\")\n"
   ]
  },
  {
   "cell_type": "code",
   "execution_count": 33,
   "metadata": {},
   "outputs": [
    {
     "name": "stdout",
     "output_type": "stream",
     "text": [
      "Enter the number of carbon atoms.3\n",
      "The atomic mass of  C3H8 is 44\n"
     ]
    }
   ],
   "source": [
    "#17\n",
    "carbon=int(input(\"Enter the number of carbon atoms.\"))\n",
    "hydrogen=(carbon*2)+2\n",
    "atwt=carbon*12+hydrogen\n",
    "print(\"The atomic mass of \",\"C\"+str(carbon)+\"H\"+str(hydrogen),\"is\",atwt)"
   ]
  },
  {
   "cell_type": "code",
   "execution_count": 34,
   "metadata": {},
   "outputs": [
    {
     "name": "stdout",
     "output_type": "stream",
     "text": [
      "How many par 3 holes are there?6\n",
      "How many par 4 holes are there?10\n",
      "How many par 5 holes are there?2\n",
      "What is the difficulty adjustment for the course?-2\n",
      "The standard Scratch score for the course is:\n",
      "66\n"
     ]
    }
   ],
   "source": [
    "#18\n",
    "shot1=int(input(\"How many par 3 holes are there?\"))\n",
    "shot2=int(input(\"How many par 4 holes are there?\"))\n",
    "shot3=int(input(\"How many par 5 holes are there?\"))\n",
    "dif=int(input(\"What is the difficulty adjustment for the course?\"))\n",
    "score=shot1*3+shot2*4+shot3*5+dif\n",
    "print(\"The standard Scratch score for the course is:\")\n",
    "print(score)"
   ]
  },
  {
   "cell_type": "code",
   "execution_count": 40,
   "metadata": {},
   "outputs": [
    {
     "name": "stdout",
     "output_type": "stream",
     "text": [
      "What is the circumference of your wheel in millimetres?1250\n",
      "How many wheel revolution have taken place in your journey?8920\n",
      "How many minutes did you cycle for?30\n",
      "You covered  11.15 km.\n",
      "At an average speed of  22.3 kmh\n"
     ]
    }
   ],
   "source": [
    "#19\n",
    "circum=int(input(\"What is the circumference of your wheel in millimetres?\"))\n",
    "revol=int(input(\"How many wheel revolution have taken place in your journey?\"))\n",
    "minute=int(input(\"How many minutes did you cycle for?\"))\n",
    "dis=revol*(circum*pow(10,-6))\n",
    "time=minute/60\n",
    "print(\"You covered \",dis,\"km.\")\n",
    "print(\"At an average speed of \",round(dis/time,1),\"kmh\")"
   ]
  },
  {
   "cell_type": "code",
   "execution_count": null,
   "metadata": {},
   "outputs": [],
   "source": []
  },
  {
   "cell_type": "code",
   "execution_count": null,
   "metadata": {},
   "outputs": [],
   "source": []
  }
 ],
 "metadata": {
  "kernelspec": {
   "display_name": "Python 3",
   "language": "python",
   "name": "python3"
  },
  "language_info": {
   "codemirror_mode": {
    "name": "ipython",
    "version": 3
   },
   "file_extension": ".py",
   "mimetype": "text/x-python",
   "name": "python",
   "nbconvert_exporter": "python",
   "pygments_lexer": "ipython3",
   "version": "3.8.10"
  }
 },
 "nbformat": 4,
 "nbformat_minor": 4
}
